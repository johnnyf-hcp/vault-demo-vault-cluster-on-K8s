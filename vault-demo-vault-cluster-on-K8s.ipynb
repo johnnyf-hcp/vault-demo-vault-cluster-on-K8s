{
 "cells": [
  {
   "cell_type": "markdown",
   "metadata": {
    "vscode": {
     "languageId": "shellscript"
    }
   },
   "source": [
    "# Vault Setup in Kubernetes (EKS)\n",
    "\n",
    "This demo is to show how a Vault cluster can be configured on Kubernetes.  We will also show how Auto Unseal can be configured using the Vault Transit Engine.\n",
    "\n",
    "<img src=\"images/vault-demo-vault-cluster-on-K8s.png\">\n",
    "\n",
    "## Summary of solution\n",
    "\n",
    "This setup is tested on MacOS and is meant to simulate a distributed setup.  In this demo, we will be going through the following steps:\n",
    "- Setup a kind K8s cluster (https://kind.sigs.k8s.io/)\n",
    "- Install and Configure a 3 node Vault cluster using the Vault Helm Chart\n",
    "- Expose the Vault nodes using a NodePort\n",
    "- Test out the High Availability of the Vault Cluster\n",
    "- Setup Transit Auto-Unseal to simplify Vault server restarts\n",
    "\n",
    "## Requirements to Run This Demo\n",
    "You will need Visual Studio Code to be installed with the Jupyter plugin.  To run this notebook in VS Code, chose the Jupyter kernel and then Bash.\n",
    "- To run the current cell, use Ctrl + Enter.\n",
    "- To run the current cell and advance to the next, use Shift+Enter."
   ]
  },
  {
   "cell_type": "markdown",
   "metadata": {},
   "source": [
    "# Setup Pre-requisites (One-time)\n",
    "\n",
    "Assumes you have docker installed and brew installed\n",
    "\n",
    "- https://docs.docker.com/desktop/install/mac-install/\n",
    "- https://brew.sh/"
   ]
  },
  {
   "cell_type": "code",
   "execution_count": null,
   "metadata": {
    "vscode": {
     "languageId": "shellscript"
    }
   },
   "outputs": [],
   "source": [
    "# Install kind\n",
    "brew install kind"
   ]
  },
  {
   "cell_type": "code",
   "execution_count": null,
   "metadata": {
    "vscode": {
     "languageId": "shellscript"
    }
   },
   "outputs": [],
   "source": [
    "# Install Kubectl CLI\n",
    "brew install kubernetes-cli"
   ]
  },
  {
   "cell_type": "code",
   "execution_count": null,
   "metadata": {
    "vscode": {
     "languageId": "shellscript"
    }
   },
   "outputs": [],
   "source": [
    "# Install Helm CLI.  This is used to install the VSO helm chart.\n",
    "brew install helm"
   ]
  },
  {
   "cell_type": "code",
   "execution_count": null,
   "metadata": {
    "vscode": {
     "languageId": "shellscript"
    }
   },
   "outputs": [],
   "source": [
    "# Install K9s.  This is a nice console GUI for K8s.  https://k9scli.io/\n",
    "brew install K9s"
   ]
  },
  {
   "cell_type": "markdown",
   "metadata": {},
   "source": [
    "# Setup K8s cluster"
   ]
  },
  {
   "cell_type": "code",
   "execution_count": null,
   "metadata": {
    "vscode": {
     "languageId": "shellscript"
    }
   },
   "outputs": [],
   "source": [
    "# Start a kind cluster with 4 nodes (3 nodes for the Vault cluster and 1 node for the Transit Auto-Unseal)\n",
    "# We will be doing a NodePort on port 30000 so kind needs to configure the extraPortMappings to expose port 30000 to the host.\n",
    "kind create cluster --name vault --image kindest/node:v1.28.0 --config - <<EOF\n",
    "kind: Cluster\n",
    "apiVersion: kind.x-k8s.io/v1alpha4\n",
    "nodes:\n",
    "- role: control-plane\n",
    "  extraPortMappings:\n",
    "  - containerPort: 30000\n",
    "    hostPort: 30000\n",
    "    listenAddress: \"0.0.0.0\" # Optional, defaults to \"0.0.0.0\"\n",
    "    protocol: tcp # Optional, defaults to tcp\n",
    "- role: worker\n",
    "- role: worker\n",
    "- role: worker\n",
    "- role: worker\n",
    "EOF"
   ]
  },
  {
   "cell_type": "code",
   "execution_count": null,
   "metadata": {
    "vscode": {
     "languageId": "shellscript"
    }
   },
   "outputs": [],
   "source": [
    "# Verify kind containers are running\n",
    "docker ps\n",
    "echo\n",
    "# Show that we have 3 nodes in our K8s cluster\n",
    "kubectl get nodes"
   ]
  },
  {
   "cell_type": "code",
   "execution_count": null,
   "metadata": {
    "vscode": {
     "languageId": "shellscript"
    }
   },
   "outputs": [],
   "source": [
    "# Create a new K8s namespace for this demo\n",
    "## Specify the K8s namespace for the Vault setup\n",
    "export KUBENAMESPACE=vault-ns\n",
    "\n",
    "## Delete namespace if it exists\n",
    "#kubectl delete ns $KUBENAMESPACE\n",
    "\n",
    "echo \"Creating K8s namespace: $KUBENAMESPACE\"\n",
    "kubectl create ns $KUBENAMESPACE"
   ]
  },
  {
   "cell_type": "code",
   "execution_count": null,
   "metadata": {
    "vscode": {
     "languageId": "shellscript"
    }
   },
   "outputs": [],
   "source": [
    "# Setup Vault Enterprise License in a K8s secret.  Update the path to your license file.\n",
    "export VAULT_LICENCE=$(cat ../../vault-enterprise/vault_local/data/vault.hclic)\n",
    "#kubectl delete secret vault-ent-license -n $KUBENAMESPACE\n",
    "kubectl create secret generic vault-ent-license --from-literal=\"license=${VAULT_LICENCE}\" -n $KUBENAMESPACE"
   ]
  },
  {
   "cell_type": "code",
   "execution_count": null,
   "metadata": {
    "vscode": {
     "languageId": "shellscript"
    }
   },
   "outputs": [],
   "source": [
    "# Add the HashiCorp repo (Only required for the first time)\n",
    "helm repo add hashicorp https://helm.releases.hashicorp.com"
   ]
  },
  {
   "cell_type": "code",
   "execution_count": null,
   "metadata": {
    "vscode": {
     "languageId": "shellscript"
    }
   },
   "outputs": [],
   "source": [
    "# Optional.  Update the repo (Only required when new versions are released)\n",
    "helm repo update"
   ]
  },
  {
   "cell_type": "code",
   "execution_count": null,
   "metadata": {
    "vscode": {
     "languageId": "shellscript"
    }
   },
   "outputs": [],
   "source": [
    "# Optional.  This allows you to view the helm charts for vault\n",
    "helm search repo hashicorp/vault -l"
   ]
  },
  {
   "cell_type": "code",
   "execution_count": null,
   "metadata": {
    "vscode": {
     "languageId": "shellscript"
    }
   },
   "outputs": [],
   "source": [
    "# Install a 3 node Vault cluster using the Vault helm chart.  \n",
    "# This will configure the raft database on PersistentVolumes and also configure raft auto join between the 3 Vault pods.\n",
    "# For demo purposes, we will be using HTTP.\n",
    "# See https://developer.hashicorp.com/vault/docs/platform/k8s/helm/configuration for options\n",
    "helm install vault hashicorp/vault --version 0.25.0 -n $KUBENAMESPACE -f - <<EOF\n",
    "injector:\n",
    "  enabled: false\n",
    "server:\n",
    "  image:\n",
    "    repository: hashicorp/vault-enterprise\n",
    "    tag: latest\n",
    "  enterpriseLicense:\n",
    "    secretName: vault-ent-license\n",
    "  logLevel: trace\n",
    "  auditStorage:\n",
    "    enabled: true\n",
    "  ha:\n",
    "    enabled: true\n",
    "    replicas: 3\n",
    "    raft:\n",
    "      enabled: true\n",
    "      setNodeId: true\n",
    "      config: |\n",
    "        disable_mlock = true\n",
    "        ui = true\n",
    "        listener \"tcp\" {\n",
    "          tls_disable = 1\n",
    "          address = \"[::]:8200\"\n",
    "          cluster_address = \"[::]:8201\"\n",
    "        }\n",
    "        storage \"raft\" {\n",
    "          # PVC Volume to keep Vault data\n",
    "          path = \"/vault/data\"\n",
    "          # For auto-join to the raft cluster\n",
    "          retry_join {\n",
    "            leader_api_addr = \"http://vault-0.vault-internal:8200\"\n",
    "          }\n",
    "          retry_join {\n",
    "            leader_api_addr = \"http://vault-1.vault-internal:8200\"\n",
    "          }\n",
    "          retry_join {\n",
    "            leader_api_addr = \"http://vault-2.vault-internal:8200\"\n",
    "          } \n",
    "        }\n",
    "EOF\n",
    "\n"
   ]
  },
  {
   "cell_type": "code",
   "execution_count": null,
   "metadata": {
    "vscode": {
     "languageId": "shellscript"
    }
   },
   "outputs": [],
   "source": [
    "# View installed charts\n",
    "helm list -A"
   ]
  },
  {
   "cell_type": "code",
   "execution_count": null,
   "metadata": {
    "vscode": {
     "languageId": "shellscript"
    }
   },
   "outputs": [],
   "source": [
    "# View Vault pods in Vault namespace\n",
    "#kubectl get pods -n $KUBENAMESPACE -o wide\n",
    "\n",
    "# Show resources in Vault namespace\n",
    "kubectl -n $KUBENAMESPACE get all\n",
    "\n",
    "# Make sure all Vault pods are in Running status before continuing"
   ]
  },
  {
   "cell_type": "code",
   "execution_count": null,
   "metadata": {
    "vscode": {
     "languageId": "shellscript"
    }
   },
   "outputs": [],
   "source": [
    "# On first time setup, verify that all Vault nodes are sealed and not initialized.  Initialized = falase & Sealed = true\n",
    "kubectl exec -ti vault-0 -n $KUBENAMESPACE -- vault status\n",
    "echo\n",
    "kubectl exec -ti vault-1 -n $KUBENAMESPACE -- vault status\n",
    "echo\n",
    "kubectl exec -ti vault-2 -n $KUBENAMESPACE -- vault status"
   ]
  },
  {
   "cell_type": "code",
   "execution_count": null,
   "metadata": {
    "vscode": {
     "languageId": "shellscript"
    }
   },
   "outputs": [],
   "source": [
    "# Initialize vault-0 pod.  For demo purposes, we will just be generating 1 unseal key.\n",
    "kubectl exec -ti vault-0 -n $KUBENAMESPACE -- vault operator init -format=json -key-shares=1 -key-threshold=1 > init.json"
   ]
  },
  {
   "cell_type": "code",
   "execution_count": null,
   "metadata": {
    "vscode": {
     "languageId": "shellscript"
    }
   },
   "outputs": [],
   "source": [
    "# Show the init.json\n",
    "cat init.json | jq\n",
    "\n",
    "# Store the Unseal Key and Root Token for use later\n",
    "export UNSEAL_KEY=$(jq -r '.unseal_keys_b64[]' init.json)\n",
    "export VAULT_TOKEN=$(jq -r '.root_token' init.json)\n",
    "echo\n",
    "echo \"Vault Unseal Key: $UNSEAL_KEY\"\n",
    "echo \"Vault Root Token: $VAULT_TOKEN\""
   ]
  },
  {
   "cell_type": "code",
   "execution_count": null,
   "metadata": {
    "vscode": {
     "languageId": "shellscript"
    }
   },
   "outputs": [],
   "source": [
    "# Unseal vault-0 pod.  You should see Sealed = false\n",
    "echo \"Vault Unseal Key: $UNSEAL_KEY\"\n",
    "kubectl exec -ti vault-0 -n $KUBENAMESPACE -- vault operator unseal $UNSEAL_KEY"
   ]
  },
  {
   "cell_type": "code",
   "execution_count": null,
   "metadata": {
    "vscode": {
     "languageId": "shellscript"
    }
   },
   "outputs": [],
   "source": [
    "# Note: This step is only required if the retry_join setting is not in the Vault config.\n",
    "# We are skipping this step but note that you can do manual joining if you don't specify retry_join in the Vault config.\n",
    "# Join vault-1 pod to the cluster.\n",
    "#kubectl exec -ti vault-1 -n $KUBENAMESPACE -- vault operator raft join http://vault-0.vault-internal:8200\n",
    "# Join vault-2 pod to the cluster.\n",
    "#kubectl exec -ti vault-2 -n $KUBENAMESPACE -- vault operator raft join http://vault-0.vault-internal:8200"
   ]
  },
  {
   "cell_type": "code",
   "execution_count": null,
   "metadata": {
    "vscode": {
     "languageId": "shellscript"
    }
   },
   "outputs": [],
   "source": [
    "# Unseal vault-1 pod.  You should see Sealed = false.  Re-run the command if needed.\n",
    "echo \"Vault Unseal Key: $UNSEAL_KEY\"\n",
    "kubectl exec -ti vault-1 -n $KUBENAMESPACE -- vault operator unseal $UNSEAL_KEY"
   ]
  },
  {
   "cell_type": "code",
   "execution_count": null,
   "metadata": {
    "vscode": {
     "languageId": "shellscript"
    }
   },
   "outputs": [],
   "source": [
    "# Unseal vault-2 pod.  You should see Sealed = false.  Re-run the command if needed.\n",
    "echo \"Vault Unseal Key: $UNSEAL_KEY\"\n",
    "kubectl exec -ti vault-2 -n $KUBENAMESPACE -- vault operator unseal $UNSEAL_KEY"
   ]
  },
  {
   "cell_type": "code",
   "execution_count": null,
   "metadata": {
    "vscode": {
     "languageId": "shellscript"
    }
   },
   "outputs": [],
   "source": [
    "# We will be exposing the vault nodes using a NodePort on port 30000\n",
    "# vault-active: \"true\" is commented out.  If included, it will only route to the leader node\n",
    "kubectl apply -n $KUBENAMESPACE -f - <<EOF\n",
    "kind: Service\n",
    "apiVersion: v1\n",
    "metadata:\n",
    "  name: port-vault-svc\n",
    "spec:\n",
    "  type: NodePort \n",
    "  selector:\n",
    "    app.kubernetes.io/name: \"vault\"\n",
    "    app.kubernetes.io/instance: \"vault\"\n",
    "    component: server\n",
    "    #vault-active: \"true\"\n",
    "  ports:\n",
    "    - nodePort: 30000\n",
    "      port: 8200\n",
    "      targetPort: 8200\n",
    "EOF"
   ]
  },
  {
   "cell_type": "code",
   "execution_count": null,
   "metadata": {
    "vscode": {
     "languageId": "shellscript"
    }
   },
   "outputs": [],
   "source": [
    "# Configure my host to connect to the NodePort for Vault\n",
    "export VAULT_ADDR=http://localhost:30000\n",
    "\n",
    "# Verify that I can access the vault cluster from the node port\n",
    "vault secrets list\n",
    "echo\n",
    "# Test logging in as root on vault-0 and verify that you can also access vault from the pod\n",
    "kubectl exec -ti vault-0 -n $KUBENAMESPACE -- vault login $VAULT_TOKEN\n",
    "echo\n",
    "kubectl exec -ti vault-0 -n $KUBENAMESPACE -- vault secrets list"
   ]
  },
  {
   "cell_type": "markdown",
   "metadata": {},
   "source": [
    "# Testing High Availability"
   ]
  },
  {
   "cell_type": "code",
   "execution_count": null,
   "metadata": {
    "vscode": {
     "languageId": "shellscript"
    }
   },
   "outputs": [],
   "source": [
    "# View raft status of your Vault cluster and verify the leader is vault-0\n",
    "vault operator raft list-peers"
   ]
  },
  {
   "cell_type": "code",
   "execution_count": null,
   "metadata": {
    "vscode": {
     "languageId": "shellscript"
    }
   },
   "outputs": [],
   "source": [
    "# Let's try deleting the vault-0 pod\n",
    "kubectl delete pod vault-0 -n $KUBENAMESPACE\n",
    "# See that the pod gets recreated\n",
    "kubectl get pods -n $KUBENAMESPACE"
   ]
  },
  {
   "cell_type": "code",
   "execution_count": null,
   "metadata": {
    "vscode": {
     "languageId": "shellscript"
    }
   },
   "outputs": [],
   "source": [
    "# View raft status of your Vault cluster and verify that another leader has taken over\n",
    "vault operator raft list-peers\n",
    "echo\n",
    "# Verify that vault-0 is sealed\n",
    "kubectl exec -ti vault-0 -n $KUBENAMESPACE -- vault status"
   ]
  },
  {
   "cell_type": "code",
   "execution_count": null,
   "metadata": {
    "vscode": {
     "languageId": "shellscript"
    }
   },
   "outputs": [],
   "source": [
    "# Verify that I can still access vault secrets even thought vault-0 is sealed\n",
    "vault secrets list"
   ]
  },
  {
   "cell_type": "code",
   "execution_count": null,
   "metadata": {
    "vscode": {
     "languageId": "shellscript"
    }
   },
   "outputs": [],
   "source": [
    "# View raft status of your Vault cluster.  Verify that Healthy is false.\n",
    "vault operator raft autopilot state"
   ]
  },
  {
   "cell_type": "code",
   "execution_count": null,
   "metadata": {
    "vscode": {
     "languageId": "shellscript"
    }
   },
   "outputs": [],
   "source": [
    "# Unseal vault-0 pod.  You should see Sealed = false\n",
    "echo \"Vault Unseal Key: $UNSEAL_KEY\"\n",
    "kubectl exec -ti vault-0 -n $KUBENAMESPACE -- vault operator unseal $UNSEAL_KEY"
   ]
  },
  {
   "cell_type": "code",
   "execution_count": null,
   "metadata": {
    "vscode": {
     "languageId": "shellscript"
    }
   },
   "outputs": [],
   "source": [
    "# View raft status of your Vault cluster.  Verify that Healthy is now true.\n",
    "vault operator raft autopilot state"
   ]
  },
  {
   "cell_type": "markdown",
   "metadata": {},
   "source": [
    "# Configure Vault Cluster for Transit Auto Unseal\n",
    "\n",
    "Auto-unseal can be done with AWS KMS, Azure Key Vault, GCP Cloud KMS, HSM devices via PKCS#11, and lastly Vault's Transit Engine.\n",
    "\n",
    "Ref: https://developer.hashicorp.com/vault/tutorials/auto-unseal\n",
    "\n",
    "This section will demonstrate how we can do auto-unsealing of the Vault cluster nodes using Transit Auto Unseal.\n",
    "\n",
    "Note that you can use the seal migration process.\n",
    "\n",
    "Ref: https://developer.hashicorp.com/vault/docs/concepts/seal#seal-migration\n",
    "\n",
    "For this demo purposes, we will be doing a fresh Vault cluster setup.\n",
    "\n"
   ]
  },
  {
   "cell_type": "code",
   "execution_count": null,
   "metadata": {
    "vscode": {
     "languageId": "shellscript"
    }
   },
   "outputs": [],
   "source": [
    "# Delete the Vault cluster\n",
    "helm delete vault -n $KUBENAMESPACE"
   ]
  },
  {
   "cell_type": "code",
   "execution_count": null,
   "metadata": {
    "vscode": {
     "languageId": "shellscript"
    }
   },
   "outputs": [],
   "source": [
    "# Clear Vault PVCs\n",
    "kubectl -n $KUBENAMESPACE delete pvc --all \n",
    "echo\n",
    "# Verify that all PVCs are cleared\n",
    "kubectl -n $KUBENAMESPACE get pvc  "
   ]
  },
  {
   "cell_type": "code",
   "execution_count": null,
   "metadata": {
    "vscode": {
     "languageId": "shellscript"
    }
   },
   "outputs": [],
   "source": [
    "# Install a new Vault pod to provide the transit engine for auto-unseal\n",
    "helm install vault-transit hashicorp/vault --version 0.25.0 -n $KUBENAMESPACE -f - <<EOF\n",
    "injector:\n",
    "  enabled: false\n",
    "server:\n",
    "  image:\n",
    "    repository: hashicorp/vault-enterprise\n",
    "    tag: latest\n",
    "  enterpriseLicense:\n",
    "    secretName: vault-ent-license\n",
    "  logLevel: trace\n",
    "  auditStorage:\n",
    "    enabled: true\n",
    "  ha:\n",
    "    enabled: true\n",
    "    replicas: 1\n",
    "    raft:\n",
    "      enabled: true\n",
    "      setNodeId: true\n",
    "EOF\n"
   ]
  },
  {
   "cell_type": "code",
   "execution_count": null,
   "metadata": {
    "vscode": {
     "languageId": "shellscript"
    }
   },
   "outputs": [],
   "source": [
    "# Show resources in Vault namespace.  Verify that vault-transit-0 is Running before continuing.\n",
    "kubectl -n $KUBENAMESPACE get all"
   ]
  },
  {
   "cell_type": "code",
   "execution_count": null,
   "metadata": {
    "vscode": {
     "languageId": "shellscript"
    }
   },
   "outputs": [],
   "source": [
    "# Initialize vault-transit-0 pod.  For demo purposes, we will just be generating 1 unseal key.\n",
    "kubectl exec -ti vault-transit-0 -n $KUBENAMESPACE -- vault operator init -format=json -key-shares=1 -key-threshold=1 > transit-init.json"
   ]
  },
  {
   "cell_type": "code",
   "execution_count": null,
   "metadata": {
    "vscode": {
     "languageId": "shellscript"
    }
   },
   "outputs": [],
   "source": [
    "# Show the transit-init.json\n",
    "cat transit-init.json | jq\n",
    "\n",
    "# Store the vault-transit-0 Unseal Key and Root Token for use later\n",
    "export TRANSIT_UNSEAL_KEY=$(jq -r '.unseal_keys_b64[]' transit-init.json)\n",
    "export TRANSIT_VAULT_TOKEN=$(jq -r '.root_token' transit-init.json)\n",
    "echo\n",
    "echo \"Transit Vault Unseal Key: $TRANSIT_UNSEAL_KEY\"\n",
    "echo \"Transit Vault Root Token: $TRANSIT_VAULT_TOKEN\""
   ]
  },
  {
   "cell_type": "code",
   "execution_count": null,
   "metadata": {
    "vscode": {
     "languageId": "shellscript"
    }
   },
   "outputs": [],
   "source": [
    "# Unseal vault-transit-0 pod.  You should see Sealed = false\n",
    "echo \"Transit Vault Unseal Key: $TRANSIT_UNSEAL_KEY\"\n",
    "kubectl exec -ti vault-transit-0 -n $KUBENAMESPACE -- vault operator unseal $TRANSIT_UNSEAL_KEY"
   ]
  },
  {
   "cell_type": "code",
   "execution_count": null,
   "metadata": {
    "vscode": {
     "languageId": "shellscript"
    }
   },
   "outputs": [],
   "source": [
    "# Configure the Transit Engine for use for Auto Unseal\n",
    "echo \"Transit Vault Root Token: $TRANSIT_VAULT_TOKEN\"\n",
    "# Login to Vault and enable the transit engine\n",
    "kubectl exec -ti vault-transit-0 -n $KUBENAMESPACE -- vault login $TRANSIT_VAULT_TOKEN\n",
    "echo\n",
    "kubectl exec -ti vault-transit-0 -n $KUBENAMESPACE -- vault secrets enable transit"
   ]
  },
  {
   "cell_type": "code",
   "execution_count": null,
   "metadata": {
    "vscode": {
     "languageId": "shellscript"
    }
   },
   "outputs": [],
   "source": [
    "# Create an auto-unseal encryption key\n",
    "kubectl exec -ti vault-transit-0 -n $KUBENAMESPACE -- vault write -f transit/keys/autounseal"
   ]
  },
  {
   "cell_type": "code",
   "execution_count": null,
   "metadata": {
    "vscode": {
     "languageId": "shellscript"
    }
   },
   "outputs": [],
   "source": [
    "# Create an auto-unseal policy to access the autounseal key\n",
    "kubectl exec -ti vault-transit-0 -n $KUBENAMESPACE -- vault policy write autounseal - <<EOF\n",
    "path \"transit/encrypt/autounseal\" {\n",
    "    capabilities = [ \"update\" ]\n",
    "}\n",
    "path \"transit/decrypt/autounseal\" {\n",
    "    capabilities = [ \"update\" ]\n",
    "}\n",
    "EOF\n",
    "echo\n",
    "# Verify the policy is written\n",
    "kubectl exec -ti vault-transit-0 -n $KUBENAMESPACE -- vault policy read autounseal"
   ]
  },
  {
   "cell_type": "code",
   "execution_count": null,
   "metadata": {
    "vscode": {
     "languageId": "shellscript"
    }
   },
   "outputs": [],
   "source": [
    "# Create an orphaned token that is renewed every 24 hours\n",
    "kubectl exec -ti vault-transit-0 -n $KUBENAMESPACE -- vault token create -orphan -policy=\"autounseal\" \\\n",
    "    -period=24h -format=json > token.json\n"
   ]
  },
  {
   "cell_type": "code",
   "execution_count": null,
   "metadata": {
    "vscode": {
     "languageId": "shellscript"
    }
   },
   "outputs": [],
   "source": [
    "# Show token.json\n",
    "cat token.json | jq\n",
    "\n",
    "# Store the Auto Unseal Token, this will be used to configure the Vault cluster for Auto Unseal\n",
    "export AUTOUNSEAL_TOKEN=$(jq -r .auth.client_token token.json)\n",
    "echo\n",
    "echo \"Auto Unseal Token: $AUTOUNSEAL_TOKEN\""
   ]
  },
  {
   "cell_type": "code",
   "execution_count": null,
   "metadata": {
    "vscode": {
     "languageId": "shellscript"
    }
   },
   "outputs": [],
   "source": [
    "# Verify that the created token is valid and has the \"autounseal\" policy\n",
    "echo \"Transit Vault Auto Unseal Token: $AUTOUNSEAL_TOKEN\"\n",
    "kubectl exec -ti vault-transit-0 -n $KUBENAMESPACE -- vault login $AUTOUNSEAL_TOKEN\n"
   ]
  },
  {
   "cell_type": "code",
   "execution_count": null,
   "metadata": {
    "vscode": {
     "languageId": "shellscript"
    }
   },
   "outputs": [],
   "source": [
    "# Install the 3 node Vault cluster with the Vault helm chart.  Note the extra seal stanza.  \n",
    "# We will be setting the autounseal vault token as an environment variable.\n",
    "# See https://developer.hashicorp.com/vault/docs/platform/k8s/helm/configuration for options\n",
    "helm install vault hashicorp/vault --version 0.25.0 -n $KUBENAMESPACE -f - <<EOF\n",
    "injector:\n",
    "  enabled: false\n",
    "server:\n",
    "  image:\n",
    "    repository: hashicorp/vault-enterprise\n",
    "    tag: latest\n",
    "  enterpriseLicense:\n",
    "    secretName: vault-ent-license\n",
    "  logLevel: trace\n",
    "  auditStorage:\n",
    "    enabled: true\n",
    "  extraEnvironmentVars:\n",
    "    VAULT_TOKEN: $AUTOUNSEAL_TOKEN\n",
    "  ha:\n",
    "    enabled: true\n",
    "    replicas: 3\n",
    "    raft:\n",
    "      enabled: true\n",
    "      setNodeId: true\n",
    "      config: |\n",
    "        disable_mlock = true\n",
    "        ui = true\n",
    "        listener \"tcp\" {\n",
    "          tls_disable = 1\n",
    "          address = \"[::]:8200\"\n",
    "          cluster_address = \"[::]:8201\"\n",
    "        }\n",
    "        storage \"raft\" {\n",
    "          # PVC Volume to keep Vault data\n",
    "          path = \"/vault/data\"\n",
    "          # For auto-join to the raft cluster\n",
    "          retry_join {\n",
    "            leader_api_addr = \"http://vault-0.vault-internal:8200\"\n",
    "          }\n",
    "          retry_join {\n",
    "            leader_api_addr = \"http://vault-1.vault-internal:8200\"\n",
    "          }\n",
    "          retry_join {\n",
    "            leader_api_addr = \"http://vault-2.vault-internal:8200\"\n",
    "          } \n",
    "        }\n",
    "        seal \"transit\" {\n",
    "          address = \"http://vault-transit-0.vault-transit-internal:8200\"\n",
    "          #token = $AUTOUNSEAL_TOKEN\n",
    "          disable_renewal = \"false\"\n",
    "          key_name = \"autounseal\"\n",
    "          mount_path = \"transit/\"\n",
    "          tls_skip_verify = \"true\"\n",
    "        } \n",
    "EOF\n"
   ]
  },
  {
   "cell_type": "code",
   "execution_count": null,
   "metadata": {
    "vscode": {
     "languageId": "shellscript"
    }
   },
   "outputs": [],
   "source": [
    "# Show resources in Vault namespace\n",
    "kubectl -n $KUBENAMESPACE get all\n",
    "\n",
    "# Make sure all Vault pods are in Running status before continuing"
   ]
  },
  {
   "cell_type": "code",
   "execution_count": null,
   "metadata": {
    "vscode": {
     "languageId": "shellscript"
    }
   },
   "outputs": [],
   "source": [
    "# Initialize vault-0 pod.  Note that the flags we use are for recovery keys as this is a auto unseal setup.\n",
    "# For demo purposes, we will just be generating 1 recovery key.\n",
    "kubectl exec -ti vault-0 -n $KUBENAMESPACE -- vault operator init -format=json -recovery-shares=1 -recovery-threshold=1 > init.json\n",
    "cat init.json | jq"
   ]
  },
  {
   "cell_type": "code",
   "execution_count": null,
   "metadata": {
    "vscode": {
     "languageId": "shellscript"
    }
   },
   "outputs": [],
   "source": [
    "# Verify that all Vault nodes are already unsealed.  Sealed = false\n",
    "kubectl exec -ti vault-0 -n $KUBENAMESPACE -- vault status\n",
    "echo\n",
    "kubectl exec -ti vault-1 -n $KUBENAMESPACE -- vault status\n",
    "echo\n",
    "kubectl exec -ti vault-2 -n $KUBENAMESPACE -- vault status"
   ]
  },
  {
   "cell_type": "code",
   "execution_count": null,
   "metadata": {
    "vscode": {
     "languageId": "shellscript"
    }
   },
   "outputs": [],
   "source": [
    "# View raft status of your Vault cluster.  Verify that Healthy is now true.\n",
    "export VAULT_TOKEN=$(jq -r '.root_token' init.json)\n",
    "echo \"Vault Root Token: $VAULT_TOKEN\"\n",
    "echo\n",
    "vault operator raft autopilot state"
   ]
  },
  {
   "cell_type": "code",
   "execution_count": null,
   "metadata": {
    "vscode": {
     "languageId": "shellscript"
    }
   },
   "outputs": [],
   "source": [
    "# Let's try deleting the vault-0 pod\n",
    "kubectl delete pod vault-0 -n $KUBENAMESPACE\n",
    "# See that the pod gets recreated\n",
    "kubectl get pods -n $KUBENAMESPACE"
   ]
  },
  {
   "cell_type": "code",
   "execution_count": null,
   "metadata": {
    "vscode": {
     "languageId": "shellscript"
    }
   },
   "outputs": [],
   "source": [
    "# Verify that the vault-0 pod got recreated\n",
    "kubectl get pods -o=wide -n $KUBENAMESPACE\n"
   ]
  },
  {
   "cell_type": "code",
   "execution_count": null,
   "metadata": {
    "vscode": {
     "languageId": "shellscript"
    }
   },
   "outputs": [],
   "source": [
    "# Verify that recreated Vault node is already unsealed.  Sealed = false\n",
    "kubectl exec -ti vault-0 -n $KUBENAMESPACE -- vault status"
   ]
  },
  {
   "cell_type": "markdown",
   "metadata": {
    "vscode": {
     "languageId": "shellscript"
    }
   },
   "source": [
    "## Clean Up"
   ]
  },
  {
   "cell_type": "code",
   "execution_count": null,
   "metadata": {
    "vscode": {
     "languageId": "shellscript"
    }
   },
   "outputs": [],
   "source": [
    "# Clean up temp files\n",
    "rm init.json\n",
    "rm transit-init.json\n",
    "rm token.json\n",
    "\n",
    "# Disable file audit device\n",
    "vault audit disable file\n",
    "\n",
    "# Remove the NodePort\n",
    "kubectl delete svc port-vault-svc -n $KUBENAMESPACE \n",
    "\n",
    "# Delete Vault cluster\n",
    "helm delete vault -n $KUBENAMESPACE\n",
    "\n",
    "# Delete the Vault for Transit Auto Unseal\n",
    "helm delete vault-transit -n $KUBENAMESPACE\n",
    "\n",
    "# Delete kind cluster\n",
    "kind delete cluster --name vault"
   ]
  },
  {
   "cell_type": "markdown",
   "metadata": {},
   "source": [
    "# Appendix - Other Useful Commands"
   ]
  },
  {
   "cell_type": "code",
   "execution_count": null,
   "metadata": {
    "vscode": {
     "languageId": "shellscript"
    }
   },
   "outputs": [],
   "source": [
    "# Optional: Turn on the file audit device, this allows you to keep a detailed log of all requests to Vault\n",
    "vault audit enable file file_path=/vault/audit/vault_audit.log"
   ]
  },
  {
   "cell_type": "code",
   "execution_count": null,
   "metadata": {
    "vscode": {
     "languageId": "shellscript"
    }
   },
   "outputs": [],
   "source": [
    "# Optional: view pod logs\n",
    "kubectl logs vault-0 -n $KUBENAMESPACE"
   ]
  },
  {
   "cell_type": "code",
   "execution_count": null,
   "metadata": {
    "vscode": {
     "languageId": "shellscript"
    }
   },
   "outputs": [],
   "source": [
    "# Optional: view pod details\n",
    "kubectl describe pod vault-0 -n $KUBENAMESPACE"
   ]
  },
  {
   "cell_type": "code",
   "execution_count": null,
   "metadata": {
    "vscode": {
     "languageId": "shellscript"
    }
   },
   "outputs": [],
   "source": [
    "# Optional: Add metrics-server to be able to view CPU and memory usage\n",
    "helm repo add metrics-server https://kubernetes-sigs.github.io/metrics-server/\n",
    "helm repo update\n",
    "helm upgrade --install --set args={--kubelet-insecure-tls} metrics-server metrics-server/metrics-server --namespace kube-system"
   ]
  },
  {
   "cell_type": "code",
   "execution_count": null,
   "metadata": {
    "vscode": {
     "languageId": "shellscript"
    }
   },
   "outputs": [],
   "source": [
    "# Optional: You can use k9s to view your pods.\n",
    "# You can also use the following commands to see the utlization on your nodes/pods\n",
    "kubectl top nodes\n",
    "echo\n",
    "kubectl top pod -n $KUBENAMESPACE"
   ]
  },
  {
   "cell_type": "code",
   "execution_count": null,
   "metadata": {
    "vscode": {
     "languageId": "shellscript"
    }
   },
   "outputs": [],
   "source": [
    "# To get a shell into a Vault pod\n",
    "kubectl exec -ti vault-0 -n $KUBENAMESPACE -- /bin/sh\n",
    "#kubectl exec -ti vault-0 -n vault-ns -- /bin/sh"
   ]
  },
  {
   "cell_type": "code",
   "execution_count": null,
   "metadata": {
    "vscode": {
     "languageId": "shellscript"
    }
   },
   "outputs": [],
   "source": [
    "# Show ConfigMap resources for Vault\n",
    "kubectl get configmap -n $KUBENAMESPACE -o=yaml"
   ]
  },
  {
   "cell_type": "code",
   "execution_count": null,
   "metadata": {
    "vscode": {
     "languageId": "shellscript"
    }
   },
   "outputs": [],
   "source": [
    "# Show vault-config details\n",
    "kubectl describe configmaps vault-config -n $KUBENAMESPACE"
   ]
  },
  {
   "cell_type": "code",
   "execution_count": null,
   "metadata": {
    "vscode": {
     "languageId": "shellscript"
    }
   },
   "outputs": [],
   "source": [
    "# Show Vault pod details\n",
    "kubectl describe pod vault-0 -n $KUBENAMESPACE"
   ]
  },
  {
   "cell_type": "code",
   "execution_count": null,
   "metadata": {
    "vscode": {
     "languageId": "shellscript"
    }
   },
   "outputs": [],
   "source": [
    "# Show Persistent Volume Claims in use by Vault\n",
    "kubectl get pvc -n $KUBENAMESPACE -o=yaml"
   ]
  }
 ],
 "metadata": {
  "kernelspec": {
   "display_name": "Bash",
   "language": "bash",
   "name": "bash"
  },
  "language_info": {
   "codemirror_mode": "shell",
   "file_extension": ".sh",
   "mimetype": "text/x-sh",
   "name": "bash"
  }
 },
 "nbformat": 4,
 "nbformat_minor": 4
}
